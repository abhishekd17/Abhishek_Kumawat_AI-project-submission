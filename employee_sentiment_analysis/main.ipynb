{
 "cells": [
  {
   "cell_type": "code",
   "execution_count": 4,
   "id": "18acc1dd",
   "metadata": {},
   "outputs": [
    {
     "name": "stdout",
     "output_type": "stream",
     "text": [
      "Note: you may need to restart the kernel to use updated packages.\n"
     ]
    },
    {
     "name": "stderr",
     "output_type": "stream",
     "text": [
      "WARNING: Retrying (Retry(total=4, connect=None, read=None, redirect=None, status=None)) after connection broken by 'NewConnectionError('<pip._vendor.urllib3.connection.HTTPSConnection object at 0x0000029CBD9DB200>: Failed to establish a new connection: [Errno 11001] getaddrinfo failed')': /simple/pandas/\n",
      "WARNING: Retrying (Retry(total=3, connect=None, read=None, redirect=None, status=None)) after connection broken by 'NewConnectionError('<pip._vendor.urllib3.connection.HTTPSConnection object at 0x0000029CBD532060>: Failed to establish a new connection: [Errno 11001] getaddrinfo failed')': /simple/pandas/\n",
      "WARNING: Retrying (Retry(total=2, connect=None, read=None, redirect=None, status=None)) after connection broken by 'NewConnectionError('<pip._vendor.urllib3.connection.HTTPSConnection object at 0x0000029CBDA26870>: Failed to establish a new connection: [Errno 11001] getaddrinfo failed')': /simple/pandas/\n",
      "WARNING: Retrying (Retry(total=1, connect=None, read=None, redirect=None, status=None)) after connection broken by 'NewConnectionError('<pip._vendor.urllib3.connection.HTTPSConnection object at 0x0000029CBDA26A20>: Failed to establish a new connection: [Errno 11001] getaddrinfo failed')': /simple/pandas/\n",
      "WARNING: Retrying (Retry(total=0, connect=None, read=None, redirect=None, status=None)) after connection broken by 'NewConnectionError('<pip._vendor.urllib3.connection.HTTPSConnection object at 0x0000029CBDA26C00>: Failed to establish a new connection: [Errno 11001] getaddrinfo failed')': /simple/pandas/\n",
      "ERROR: Could not find a version that satisfies the requirement pandas (from versions: none)\n",
      "ERROR: No matching distribution found for pandas\n",
      "\n",
      "[notice] A new release of pip is available: 23.2.1 -> 25.1.1\n",
      "[notice] To update, run: python.exe -m pip install --upgrade pip\n"
     ]
    }
   ],
   "source": [
    "pip install pandas numpy matplotlib seaborn scikit-learn textblob transformers torch"
   ]
  },
  {
   "cell_type": "code",
   "execution_count": null,
   "id": "e590d983",
   "metadata": {},
   "outputs": [],
   "source": [
    "import pandas as pd\n",
    "import os\n",
    "\n",
    "# Create folder to save images\n",
    "os.makedirs(\"visuals\", exist_ok=True)\n",
    "\n",
    "# Load the dataset\n",
    "df = pd.read_csv(\"test.csv\")\n",
    "\n",
    "# View the structure\n",
    "print(\"Columns:\", df.columns.tolist())\n",
    "print(\"\\nSample data:\")\n",
    "print(df.head())\n"
   ]
  },
  {
   "cell_type": "code",
   "execution_count": null,
   "id": "d23e6432",
   "metadata": {},
   "outputs": [],
   "source": [
    "# Convert time to datetime\n",
    "df['date'] = pd.to_datetime(df['date'], errors='coerce')  # handle invalid dates\n",
    "df = df.dropna(subset=['date'])  # remove rows with invalid dates\n",
    "\n",
    "# Extract month for grouping\n",
    "df['month'] = df['date'].dt.to_period(\"M\")\n",
    "\n",
    "print(\"Time column converted and month extracted.\")\n"
   ]
  },
  {
   "cell_type": "code",
   "execution_count": null,
   "id": "893013f6",
   "metadata": {},
   "outputs": [],
   "source": [
    "from textblob import TextBlob\n",
    "import matplotlib.pyplot as plt\n",
    "import seaborn as sns\n",
    "\n",
    "# Function to classify sentiment\n",
    "def classify_sentiment(text):\n",
    "    polarity = TextBlob(str(text)).sentiment.polarity\n",
    "    if polarity > 0.1:\n",
    "        return 'Positive'\n",
    "    elif polarity < -0.1:\n",
    "        return 'Negative'\n",
    "    else:\n",
    "        return 'Neutral'\n",
    "\n",
    "# Apply sentiment classification\n",
    "df['sentiment'] = df['body'].apply(classify_sentiment)\n",
    "\n",
    "# Visualization 1: Overall Sentiment Distribution\n",
    "plt.figure(figsize=(8, 6))\n",
    "sns.countplot(x='sentiment', data=df, palette='Set2')\n",
    "plt.title(\"Sentiment Distribution\", fontsize=16)\n",
    "plt.xlabel(\"Sentiment\")\n",
    "plt.ylabel(\"Message Count\")\n",
    "plt.tight_layout()\n",
    "plt.savefig(\"visuals/sentiment_distribution.png\")\n",
    "plt.show()\n"
   ]
  },
  {
   "cell_type": "code",
   "execution_count": null,
   "id": "38c1b435",
   "metadata": {},
   "outputs": [],
   "source": [
    "# Group by month and sentiment\n",
    "monthly_sentiment = df.groupby(['month', 'sentiment']).size().unstack().fillna(0)\n",
    "\n",
    "# Visualization 2: Monthly Sentiment Trend (Stacked Bar)\n",
    "monthly_sentiment.plot(kind='bar', stacked=True, figsize=(14, 6), colormap='Paired')\n",
    "plt.title('Monthly Sentiment Trends')\n",
    "plt.xlabel('Month')\n",
    "plt.ylabel('Message Count')\n",
    "plt.xticks(rotation=45)\n",
    "plt.tight_layout()\n",
    "plt.savefig(\"visuals/monthly_sentiment_trend.png\")\n",
    "plt.show()\n"
   ]
  },
  {
   "cell_type": "code",
   "execution_count": null,
   "id": "401acca9",
   "metadata": {},
   "outputs": [],
   "source": [
    "# Map sentiment to scores\n",
    "score_map = {'Positive': 1, 'Neutral': 0, 'Negative': -1}\n",
    "df['score'] = df['sentiment'].map(score_map)\n",
    "\n",
    "# Aggregate monthly scores per employee\n",
    "monthly_scores = df.groupby(['from', 'month'])['score'].sum().reset_index()\n",
    "monthly_scores.rename(columns={'from': 'employee', 'score': 'monthly_score'}, inplace=True)\n",
    "\n",
    "# Visualization: Distribution of Monthly Scores\n",
    "plt.figure(figsize=(10, 6))\n",
    "sns.histplot(monthly_scores['monthly_score'], bins=30, kde=True, color='skyblue')\n",
    "plt.title(\"Distribution of Monthly Sentiment Scores by Employee\", fontsize=16)\n",
    "plt.xlabel(\"Monthly Sentiment Score\")\n",
    "plt.ylabel(\"Frequency\")\n",
    "plt.tight_layout()\n",
    "plt.savefig(\"visuals/monthly_score_distribution.png\")\n",
    "plt.show()\n"
   ]
  },
  {
   "cell_type": "code",
   "execution_count": null,
   "id": "30c89953",
   "metadata": {},
   "outputs": [],
   "source": [
    "top_employees = {}\n",
    "\n",
    "# For each month, find top 3 positive and negative employees\n",
    "for month in monthly_scores['month'].unique():\n",
    "    month_data = monthly_scores[monthly_scores['month'] == month]\n",
    "    top_pos = month_data.sort_values(by='monthly_score', ascending=False).head(3)\n",
    "    top_neg = month_data.sort_values(by='monthly_score').head(3)\n",
    "    \n",
    "    top_employees[str(month)] = {\n",
    "        'Top 3 Positive': top_pos[['employee', 'monthly_score']],\n",
    "        'Top 3 Negative': top_neg[['employee', 'monthly_score']]\n",
    "    }\n",
    "\n",
    "# Display for example the latest month\n",
    "latest_month = str(monthly_scores['month'].max())\n",
    "print(f\"\\nTop Employees for {latest_month}:\")\n",
    "\n",
    "print(\"\\nTop 3 Positive Employees:\")\n",
    "print(top_employees[latest_month]['Top 3 Positive'])\n",
    "\n",
    "print(\"\\nTop 3 Negative Employees:\")\n",
    "print(top_employees[latest_month]['Top 3 Negative'])\n"
   ]
  },
  {
   "cell_type": "code",
   "execution_count": null,
   "id": "9e679ac1",
   "metadata": {},
   "outputs": [],
   "source": [
    "# Filter only negative messages\n",
    "negative_msgs = df[df['sentiment'] == 'Negative'][['from', 'date']]\n",
    "\n",
    "flight_risk = set()\n",
    "\n",
    "# Check rolling 4 negative messages in 30-day window\n",
    "for emp in negative_msgs['from'].unique():\n",
    "    emp_dates = negative_msgs[negative_msgs['from'] == emp]['date'].sort_values().reset_index(drop=True)\n",
    "    for i in range(len(emp_dates) - 3):\n",
    "        if (emp_dates[i+3] - emp_dates[i]).days <= 30:\n",
    "            flight_risk.add(emp)\n",
    "            break\n",
    "\n",
    "print(\"\\n⚠️ Flight Risk Employees:\")\n",
    "print(flight_risk)\n"
   ]
  },
  {
   "cell_type": "code",
   "execution_count": null,
   "id": "1058aece",
   "metadata": {},
   "outputs": [],
   "source": [
    "import matplotlib.dates as mdates\n",
    "\n",
    "plt.figure(figsize=(12, 6))\n",
    "for i, emp in enumerate(flight_risk):\n",
    "    emp_neg_dates = negative_msgs[negative_msgs['from'] == emp]['date']\n",
    "    plt.scatter(emp_neg_dates, [i]*len(emp_neg_dates), label=emp, s=100, alpha=0.7)\n",
    "\n",
    "plt.yticks(range(len(flight_risk)), list(flight_risk))\n",
    "plt.title(\"Timeline of Negative Messages for Flight-Risk Employees\")\n",
    "plt.xlabel(\"Date\")\n",
    "plt.ylabel(\"Employee\")\n",
    "plt.gca().xaxis.set_major_locator(mdates.MonthLocator())\n",
    "plt.gca().xaxis.set_major_formatter(mdates.DateFormatter('%Y-%m'))\n",
    "plt.xticks(rotation=45)\n",
    "plt.tight_layout()\n",
    "plt.savefig(\"visuals/flight_risk_timeline.png\")\n",
    "plt.show()\n"
   ]
  },
  {
   "cell_type": "code",
   "execution_count": null,
   "id": "d116415b",
   "metadata": {},
   "outputs": [],
   "source": [
    "from sklearn.linear_model import LinearRegression\n",
    "from sklearn.model_selection import train_test_split\n",
    "from sklearn.metrics import mean_squared_error, r2_score\n",
    "\n",
    "# Convert month to integer format YYYYMM for regression\n",
    "monthly_scores['month_int'] = monthly_scores['month'].astype(str).str.replace('-', '').astype(int)\n",
    "\n",
    "X = monthly_scores[['month_int']]\n",
    "y = monthly_scores['monthly_score']\n",
    "\n",
    "# Train-test split\n",
    "X_train, X_test, y_train, y_test = train_test_split(X, y, test_size=0.2, random_state=42)\n",
    "\n",
    "# Train Linear Regression Model\n",
    "model = LinearRegression()\n",
    "model.fit(X_train, y_train)\n",
    "\n",
    "# Predict\n",
    "y_pred = model.predict(X_test)\n",
    "\n",
    "# Evaluation metrics\n",
    "print(f\"\\nLinear Regression Results:\\nMean Squared Error: {mean_squared_error(y_test, y_pred):.3f}\")\n",
    "print(f\"R² Score: {r2_score(y_test, y_pred):.3f}\")\n",
    "\n",
    "# Visualization: Actual vs Predicted\n",
    "plt.figure(figsize=(10,6))\n",
    "plt.scatter(X_test, y_test, color='blue', label='Actual')\n",
    "plt.scatter(X_test, y_pred, color='red', label='Predicted')\n",
    "plt.plot(X_test, y_pred, color='red', linewidth=2)\n",
    "plt.title('Sentiment Score Prediction: Actual vs Predicted')\n",
    "plt.xlabel('Month (YYYYMM)')\n",
    "plt.ylabel('Monthly Sentiment Score')\n",
    "plt.legend()\n",
    "plt.tight_layout()\n",
    "plt.savefig(\"visuals/sentiment_score_prediction.png\")\n",
    "plt.show()\n"
   ]
  },
  {
   "cell_type": "code",
   "execution_count": null,
   "id": "6f650b95",
   "metadata": {},
   "outputs": [],
   "source": [
    "with pd.ExcelWriter(\"Employee_Sentiment_Report.xlsx\") as writer:\n",
    "    df.to_excel(writer, sheet_name='Raw_Data', index=False)\n",
    "    monthly_sentiment.to_excel(writer, sheet_name='Monthly_Sentiment')\n",
    "    monthly_scores.to_excel(writer, sheet_name='Monthly_Scores', index=False)\n",
    "\n",
    "    # Save Top Employees in separate sheets\n",
    "    for month, data in top_employees.items():\n",
    "        data['Top 3 Positive'].to_excel(writer, sheet_name=f'{month}_Top_Pos', index=False)\n",
    "        data['Top 3 Negative'].to_excel(writer, sheet_name=f'{month}_Top_Neg', index=False)\n",
    "\n",
    "print(\"✅ Report exported to Employee_Sentiment_Report.xlsx\")\n"
   ]
  },
  {
   "cell_type": "code",
   "execution_count": null,
   "id": "91bad02b",
   "metadata": {},
   "outputs": [],
   "source": []
  }
 ],
 "metadata": {
  "kernelspec": {
   "display_name": ".venv",
   "language": "python",
   "name": "python3"
  },
  "language_info": {
   "codemirror_mode": {
    "name": "ipython",
    "version": 3
   },
   "file_extension": ".py",
   "mimetype": "text/x-python",
   "name": "python",
   "nbconvert_exporter": "python",
   "pygments_lexer": "ipython3",
   "version": "3.12.0"
  }
 },
 "nbformat": 4,
 "nbformat_minor": 5
}
